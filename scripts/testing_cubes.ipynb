{
 "cells": [
  {
   "cell_type": "code",
   "execution_count": 8,
   "metadata": {},
   "outputs": [],
   "source": [
    "from tools import chview_gif, chview\n",
    "import numpy as np\n",
    "from pyBBarolo.bayesian import BayesianBBarolo\n",
    "import matplotlib.pyplot as plt\n",
    "from astropy.io import fits"
   ]
  },
  {
   "cell_type": "code",
   "execution_count": 9,
   "metadata": {},
   "outputs": [],
   "source": [
    "fitsname = \"/home/user/THESIS/models/model4/model4.fits\""
   ]
  },
  {
   "cell_type": "code",
   "execution_count": 10,
   "metadata": {},
   "outputs": [],
   "source": [
    "dfu=fits.open(fitsname)\n",
    "data=dfu[0].data"
   ]
  },
  {
   "cell_type": "code",
   "execution_count": 15,
   "metadata": {},
   "outputs": [
    {
     "name": "stdout",
     "output_type": "stream",
     "text": [
      "HEADER WARNING: TELESCOP-INSTRUME keywords not found.\n",
      "\n",
      "Opening file /home/user/THESIS/models/model4/model4.fits\n",
      "Reading 51 x 51 x 64 pixels FITS file (0.6 MB)... Done. \n",
      "\n"
     ]
    }
   ],
   "source": [
    "rad=np.arange(30,240,60)\n",
    "xpos=np.ones_like(rad)*25.5\n",
    "ypos=np.ones_like(rad)*25.5\n",
    "vsys=np.ones_like(rad)*0\n",
    "vdisp=np.ones_like(rad)*10\n",
    "inc=np.ones_like(rad)*70\n",
    "phi=np.ones_like(rad)*0\n",
    "dens=np.ones_like(rad)*10\n",
    "z0=np.ones_like(rad)*30\n",
    "vrot=np.ones_like(rad)*100\n",
    "vrad=np.ones_like(rad)*0\n",
    "\n",
    "# Creating an object for bayesian barolo\n",
    "f3d = BayesianBBarolo(fitsname)\n",
    "\n",
    "\n",
    "f3d.init(radii=rad,xpos=xpos,ypos=ypos,vsys=vsys,\\\n",
    "        vrot=vrot,vdisp=vdisp,vrad=vrad,z0=z0,inc=inc,phi=phi,dens=dens)\n",
    "f3d.set_options(mask=\"NONE\",linear=0,outfolder=f\"output/bla\",plotmask=True)\n",
    "f3d._setup(freepar=['inc_single'],useBBres=False)\n",
    "theta=np.array((inc[0],))\n",
    "rings = f3d._update_rings(f3d._inri,theta)\n",
    "mod, bhi, blo, galmod = f3d._calculate_model(rings)\n",
    "datar=data[:,blo[0]:bhi[0],blo[0]:bhi[0]]\n",
    "norm=np.sum(datar)/np.sum(mod)\n"
   ]
  },
  {
   "cell_type": "code",
   "execution_count": 19,
   "metadata": {},
   "outputs": [
    {
     "name": "stdout",
     "output_type": "stream",
     "text": [
      "GIF saved as Best_fit.gif\n"
     ]
    },
    {
     "data": {
      "application/vnd.jupyter.widget-view+json": {
       "model_id": "8e9146b7fbbd493aa3367b754c1fd6e3",
       "version_major": 2,
       "version_minor": 0
      },
      "text/plain": [
       "interactive(children=(IntSlider(value=0, description='channel', max=63), Output()), _dom_classes=('widget-inte…"
      ]
     },
     "metadata": {},
     "output_type": "display_data"
    }
   ],
   "source": [
    "chview_gif(datar, mod*norm, output_gif=\"Best_fit.gif\" , figtitle=\"Best Fit\")\n",
    "chview(datar, mod*norm,show_residuals=True)"
   ]
  }
 ],
 "metadata": {
  "kernelspec": {
   "display_name": "base",
   "language": "python",
   "name": "python3"
  },
  "language_info": {
   "codemirror_mode": {
    "name": "ipython",
    "version": 3
   },
   "file_extension": ".py",
   "mimetype": "text/x-python",
   "name": "python",
   "nbconvert_exporter": "python",
   "pygments_lexer": "ipython3",
   "version": "3.10.12"
  }
 },
 "nbformat": 4,
 "nbformat_minor": 2
}
